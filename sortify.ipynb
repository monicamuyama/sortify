{
  "cells": [
    {
      "cell_type": "markdown",
      "metadata": {
        "id": "view-in-github",
        "colab_type": "text"
      },
      "source": [
        "<a href=\"https://colab.research.google.com/github/monicamuyama/sortify/blob/main/sortify.ipynb\" target=\"_parent\"><img src=\"https://colab.research.google.com/assets/colab-badge.svg\" alt=\"Open In Colab\"/></a>"
      ]
    },
    {
      "cell_type": "code",
      "execution_count": 2,
      "metadata": {
        "id": "wmf1wdLSjxQ7",
        "colab": {
          "base_uri": "https://localhost:8080/"
        },
        "outputId": "3bae30b8-11bb-468c-e212-b3cd063d42d2"
      },
      "outputs": [
        {
          "output_type": "stream",
          "name": "stdout",
          "text": [
            "Mounted at /content/drive\n"
          ]
        }
      ],
      "source": [
        "import torch\n",
        "from torchvision import datasets, transforms\n",
        "from torch.utils.data import DataLoader\n",
        "\n",
        "#Mount Google Drive if using Colab\n",
        "from google.colab import drive\n",
        "drive.mount('/content/drive')\n",
        "\n",
        "\n",
        "# Define transforms\n",
        "transform = transforms.Compose([\n",
        "    transforms.Resize((128, 128)),\n",
        "    transforms.ToTensor(),\n",
        "    transforms.Normalize(mean=[0.5, 0.5, 0.5], std=[0.5, 0.5, 0.5])  # Normalize values\n",
        "])\n",
        "\n",
        "# Load datasets\n",
        "data_dir = \"/content/drive/MyDrive/sortify/Garbage classification\"\n",
        "train_dataset = datasets.ImageFolder(root=data_dir, transform=transform)\n",
        "\n",
        "# Split into training and validation\n",
        "train_size = int(0.8 * len(train_dataset))\n",
        "val_size = len(train_dataset) - train_size\n",
        "train_dataset, val_dataset = torch.utils.data.random_split(train_dataset, [train_size, val_size])\n",
        "\n",
        "# Create dataloaders\n",
        "batch_size = 32\n",
        "train_loader = DataLoader(train_dataset, batch_size=batch_size, shuffle=True)\n",
        "val_loader = DataLoader(val_dataset, batch_size=batch_size, shuffle=False)\n"
      ]
    },
    {
      "cell_type": "code",
      "source": [
        "import torch.nn as nn\n",
        "\n",
        "from torchvision import models\n",
        "\n",
        "# Define the device (GPU if available, else CPU)\n",
        "device = torch.device(\"cuda\" if torch.cuda.is_available() else \"cpu\")\n",
        "\n",
        "# Load a pre-trained ResNet18\n",
        "model = models.resnet18(pretrained=True)\n",
        "\n",
        "# Modify the final layer to match your dataset\n",
        "num_classes = len(train_dataset.dataset.classes)\n",
        "model.fc = nn.Linear(model.fc.in_features, num_classes)\n",
        "model = model.to(device)\n"
      ],
      "metadata": {
        "id": "fL0tEFZ_pwkV"
      },
      "execution_count": 5,
      "outputs": []
    },
    {
      "cell_type": "code",
      "source": [
        "for param in model.parameters():\n",
        "    param.requires_grad = False\n",
        "\n",
        "# Only unfreeze the final layer\n",
        "for param in model.fc.parameters():\n",
        "    param.requires_grad = True\n"
      ],
      "metadata": {
        "id": "ooiIxkzDtBWo"
      },
      "execution_count": 6,
      "outputs": []
    },
    {
      "cell_type": "code",
      "source": [
        "import torch.optim as optim\n",
        "\n",
        "# Define optimizer for the unfrozen parameters only\n",
        "optimizer = optim.Adam(model.fc.parameters(), lr=0.001)\n"
      ],
      "metadata": {
        "id": "VrS7-U4Qucwb"
      },
      "execution_count": 7,
      "outputs": []
    },
    {
      "cell_type": "code",
      "source": [
        "from torch.optim.lr_scheduler import StepLR\n",
        "\n",
        "criterion = nn.CrossEntropyLoss()\n",
        "scheduler = StepLR(optimizer, step_size=7, gamma=0.1)\n"
      ],
      "metadata": {
        "id": "bzYpyUQQukLE"
      },
      "execution_count": 8,
      "outputs": []
    },
    {
      "cell_type": "code",
      "source": [
        "def train_model_transfer(model, dataloaders, criterion, optimizer, scheduler, num_epochs=10):\n",
        "    for epoch in range(num_epochs):\n",
        "        print(f\"Epoch {epoch+1}/{num_epochs}\")\n",
        "        print('-' * 30)\n",
        "\n",
        "        # Each epoch has a training and validation phase\n",
        "        for phase in ['train', 'val']:\n",
        "            if phase == 'train':\n",
        "                model.train()  # Set model to training mode\n",
        "                dataloader = dataloaders['train']\n",
        "            else:\n",
        "                model.eval()  # Set model to evaluate mode\n",
        "                dataloader = dataloaders['val']\n",
        "\n",
        "            running_loss = 0.0\n",
        "            corrects = 0\n",
        "\n",
        "            # Iterate over data\n",
        "            for inputs, labels in dataloader:\n",
        "                inputs, labels = inputs.to(device), labels.to(device)\n",
        "\n",
        "                # Zero the parameter gradients\n",
        "                optimizer.zero_grad()\n",
        "\n",
        "                # Forward pass\n",
        "                with torch.set_grad_enabled(phase == 'train'):\n",
        "                    outputs = model(inputs)\n",
        "                    loss = criterion(outputs, labels)\n",
        "                    _, preds = torch.max(outputs, 1)\n",
        "\n",
        "                    # Backward pass and optimization in training phase\n",
        "                    if phase == 'train':\n",
        "                        loss.backward()\n",
        "                        optimizer.step()\n",
        "\n",
        "                # Statistics\n",
        "                running_loss += loss.item() * inputs.size(0)\n",
        "                corrects += torch.sum(preds == labels.data)\n",
        "\n",
        "            # Adjust learning rate for the next epoch\n",
        "            if phase == 'train':\n",
        "                scheduler.step()\n",
        "\n",
        "            epoch_loss = running_loss / len(dataloader.dataset)\n",
        "            epoch_acc = corrects.double() / len(dataloader.dataset)\n",
        "\n",
        "            print(f\"{phase} Loss: {epoch_loss:.4f} Acc: {epoch_acc:.4f}\")\n",
        "\n",
        "    return model\n"
      ],
      "metadata": {
        "id": "9K0IeG99umx5"
      },
      "execution_count": 9,
      "outputs": []
    },
    {
      "cell_type": "code",
      "source": [
        "# Combine dataloaders\n",
        "dataloaders = {'train': train_loader, 'val': val_loader}\n",
        "\n",
        "# Train the model\n",
        "model = train_model_transfer(model, dataloaders, criterion, optimizer, scheduler, num_epochs=10)\n"
      ],
      "metadata": {
        "id": "dwoiHe0Yutex",
        "outputId": "2dacd617-aa39-417e-9fc1-64aa5bec7627",
        "colab": {
          "base_uri": "https://localhost:8080/"
        }
      },
      "execution_count": 10,
      "outputs": [
        {
          "output_type": "stream",
          "name": "stdout",
          "text": [
            "Epoch 1/10\n",
            "------------------------------\n",
            "train Loss: 1.3237 Acc: 0.4918\n",
            "val Loss: 0.9401 Acc: 0.6798\n",
            "Epoch 2/10\n",
            "------------------------------\n",
            "train Loss: 0.8637 Acc: 0.7051\n",
            "val Loss: 0.8060 Acc: 0.7312\n",
            "Epoch 3/10\n",
            "------------------------------\n",
            "train Loss: 0.7201 Acc: 0.7511\n",
            "val Loss: 0.7748 Acc: 0.7431\n",
            "Epoch 4/10\n",
            "------------------------------\n",
            "train Loss: 0.6918 Acc: 0.7610\n",
            "val Loss: 0.7536 Acc: 0.7372\n",
            "Epoch 5/10\n",
            "------------------------------\n",
            "train Loss: 0.5957 Acc: 0.7976\n",
            "val Loss: 0.6887 Acc: 0.7609\n",
            "Epoch 6/10\n",
            "------------------------------\n",
            "train Loss: 0.5674 Acc: 0.8026\n",
            "val Loss: 0.6533 Acc: 0.7826\n",
            "Epoch 7/10\n",
            "------------------------------\n",
            "train Loss: 0.5440 Acc: 0.8031\n",
            "val Loss: 0.6392 Acc: 0.7925\n",
            "Epoch 8/10\n",
            "------------------------------\n",
            "train Loss: 0.5007 Acc: 0.8298\n",
            "val Loss: 0.6375 Acc: 0.7806\n",
            "Epoch 9/10\n",
            "------------------------------\n",
            "train Loss: 0.4838 Acc: 0.8392\n",
            "val Loss: 0.6340 Acc: 0.7866\n",
            "Epoch 10/10\n",
            "------------------------------\n",
            "train Loss: 0.4940 Acc: 0.8372\n",
            "val Loss: 0.6385 Acc: 0.7767\n"
          ]
        }
      ]
    },
    {
      "cell_type": "code",
      "source": [
        "from sklearn.metrics import classification_report, confusion_matrix\n",
        "import numpy as np\n",
        "\n",
        "def evaluate_model(model, dataloader, criterion):\n",
        "    model.eval()  # Set model to evaluation mode\n",
        "    running_loss = 0.0\n",
        "    corrects = 0\n",
        "    all_preds = []\n",
        "    all_labels = []\n",
        "\n",
        "    with torch.no_grad():\n",
        "        for inputs, labels in dataloader:\n",
        "            inputs, labels = inputs.to(device), labels.to(device)\n",
        "\n",
        "            # Forward pass\n",
        "            outputs = model(inputs)\n",
        "            loss = criterion(outputs, labels)\n",
        "\n",
        "            # Predictions\n",
        "            _, preds = torch.max(outputs, 1)\n",
        "\n",
        "            # Accumulate metrics\n",
        "            running_loss += loss.item() * inputs.size(0)\n",
        "            corrects += torch.sum(preds == labels.data)\n",
        "\n",
        "            # Collect predictions and labels for detailed metrics\n",
        "            all_preds.extend(preds.cpu().numpy())\n",
        "            all_labels.extend(labels.cpu().numpy())\n",
        "\n",
        "    # Calculate overall loss and accuracy\n",
        "    val_loss = running_loss / len(dataloader.dataset)\n",
        "    val_acc = corrects.double() / len(dataloader.dataset)\n",
        "\n",
        "    print(f\"Validation Loss: {val_loss:.4f}, Accuracy: {val_acc:.4f}\")\n",
        "\n",
        "    # Classification report\n",
        "    print(\"\\nClassification Report:\")\n",
        "    print(classification_report(all_labels, all_preds, target_names=train_dataset.dataset.classes))\n",
        "\n",
        "    return all_labels, all_preds\n"
      ],
      "metadata": {
        "id": "e9WNQ8TbAgqv"
      },
      "execution_count": 12,
      "outputs": []
    },
    {
      "cell_type": "code",
      "source": [
        "labels, preds = evaluate_model(model, val_loader, criterion)\n"
      ],
      "metadata": {
        "id": "6YoEhX6JApK-",
        "outputId": "863fff20-bea0-4b1b-b44a-2544e434bc47",
        "colab": {
          "base_uri": "https://localhost:8080/"
        }
      },
      "execution_count": 13,
      "outputs": [
        {
          "output_type": "stream",
          "name": "stdout",
          "text": [
            "Validation Loss: 0.6385, Accuracy: 0.7767\n",
            "\n",
            "Classification Report:\n",
            "              precision    recall  f1-score   support\n",
            "\n",
            "   cardboard       0.86      0.91      0.88        78\n",
            "       glass       0.79      0.71      0.75        93\n",
            "       metal       0.76      0.79      0.78        81\n",
            "       paper       0.82      0.87      0.84       127\n",
            "     plastic       0.70      0.77      0.73        95\n",
            "       trash       0.56      0.28      0.38        32\n",
            "\n",
            "    accuracy                           0.78       506\n",
            "   macro avg       0.75      0.72      0.73       506\n",
            "weighted avg       0.77      0.78      0.77       506\n",
            "\n"
          ]
        }
      ]
    },
    {
      "cell_type": "code",
      "source": [
        "import matplotlib.pyplot as plt\n",
        "\n",
        "def plot_confusion_matrix(labels, preds, classes):\n",
        "    cm = confusion_matrix(labels, preds)\n",
        "    plt.figure(figsize=(10, 8))\n",
        "    plt.imshow(cm, interpolation='nearest', cmap=plt.cm.Blues)\n",
        "    plt.title(\"Confusion Matrix\")\n",
        "    plt.colorbar()\n",
        "    tick_marks = np.arange(len(classes))\n",
        "    plt.xticks(tick_marks, classes, rotation=45)\n",
        "    plt.yticks(tick_marks, classes)\n",
        "\n",
        "    # Add text annotations\n",
        "    for i in range(cm.shape[0]):\n",
        "        for j in range(cm.shape[1]):\n",
        "            plt.text(j, i, cm[i, j], horizontalalignment=\"center\",\n",
        "                     color=\"white\" if cm[i, j] > cm.max() / 2. else \"black\")\n",
        "\n",
        "    plt.ylabel('True label')\n",
        "    plt.xlabel('Predicted label')\n",
        "    plt.tight_layout()\n",
        "    plt.show()\n"
      ],
      "metadata": {
        "id": "NplAg3-pAznr"
      },
      "execution_count": 14,
      "outputs": []
    },
    {
      "cell_type": "code",
      "source": [
        "plot_confusion_matrix(labels, preds, train_dataset.dataset.classes)\n"
      ],
      "metadata": {
        "id": "uT5qIJnIw7g8",
        "outputId": "caa49db9-de35-4bbf-837b-bc034c05b4c1",
        "colab": {
          "base_uri": "https://localhost:8080/",
          "height": 807
        }
      },
      "execution_count": 15,
      "outputs": [
        {
          "output_type": "display_data",
          "data": {
            "text/plain": [
              "<Figure size 1000x800 with 2 Axes>"
            ],
            "image/png": "[encoded data removed]"
          },
          "metadata": {}
        }
      ]
    }
  ],
  "metadata": {
    "colab": {
      "provenance": [],
      "authorship_tag": "ABX9TyM5NXKOiBauRDvDR6eSDcxq",
      "include_colab_link": true
    },
    "kernelspec": {
      "display_name": "Python 3",
      "name": "python3"
    },
    "language_info": {
      "name": "python"
    }
  },
  "nbformat": 4,
  "nbformat_minor": 0
}